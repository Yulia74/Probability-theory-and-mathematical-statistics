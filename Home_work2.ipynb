{
 "cells": [
  {
   "cell_type": "markdown",
   "id": "e6e42d7f",
   "metadata": {},
   "source": [
    "## Домашнее задание №1\n",
    "***"
   ]
  },
  {
   "cell_type": "markdown",
   "id": "76a40ec0",
   "metadata": {},
   "source": [
    "### Задача 1\n",
    "Вероятность того, что стрелок попадет в мишень, выстрелив один раз, равна 0.8. Стрелок выстрелил 100 раз. Найдите вероятность того, что стрелок попадет в цель ровно 85 раз."
   ]
  },
  {
   "attachments": {},
   "cell_type": "markdown",
   "id": "4dddeb8e",
   "metadata": {},
   "source": [
    "#### Решение\n",
    "для решения задачи воспользуемся формулой Бернулли $ P_{n}(X = k)= C^{n}_{k}*p^{k}*q^{(n-k)} $ ,  где\\\n",
    "𝒌 - число наступления события (дискретная величина из отрезка [0, 𝒏])\\\n",
    "𝒏 -  число испытаний\\\n",
    "𝒑 - вероятность наступления события 𝑨 в  независимых испытаниях\\\n",
    "𝒒 = 𝟏 – 𝒑 противоположная вероятность"
   ]
  },
  {
   "cell_type": "code",
   "execution_count": 12,
   "id": "128824f6",
   "metadata": {},
   "outputs": [],
   "source": [
    "from math import factorial, exp\n",
    "def get_bernulli(n, k, p):\n",
    "    return int(factorial(n) / (factorial(k) * factorial(n - k))) * p**k * (1 - p)**(n-k)"
   ]
  },
  {
   "cell_type": "code",
   "execution_count": 13,
   "id": "59d656ab",
   "metadata": {},
   "outputs": [
    {
     "name": "stdout",
     "output_type": "stream",
     "text": [
      "P = 0.048\n"
     ]
    }
   ],
   "source": [
    "P = get_bernulli(100, 85, 0.8)\n",
    "print(f'P = {round(P, 3)}')"
   ]
  },
  {
   "cell_type": "markdown",
   "id": "53eb1997",
   "metadata": {},
   "source": [
    "***\n",
    "### Ответ:\n",
    "**Вероятность того, что стрелок попадет в цель 85 раз ***Р*** (85 раз) ~ 0,048**\n",
    "***"
   ]
  },
  {
   "cell_type": "markdown",
   "id": "a367cdcc",
   "metadata": {},
   "source": [
    "### Задача 2\n",
    "Вероятность того, что лампочка перегорит в течение первого дня эксплуатации, равна 0.0004. В жилом комплексе после ремонта в один день включили 5000 новых лампочек. Какова вероятность, что ни одна из них не перегорит в первый день? Какова вероятность, что перегорят ровно две?"
   ]
  },
  {
   "attachments": {},
   "cell_type": "markdown",
   "id": "b38e1f65",
   "metadata": {},
   "source": [
    "#### Решение\n",
    "для решения задачи будем использовать формулу Пуассона, т.к. вероятность события мала и проводится большое количество испытаний\\\n",
    "$ P_{m} = \\frac{\\lambda^m}{m!} \\cdot e^{-\\lambda} $    , где\\\n",
    "***𝜆*** − среднее количество наступления события за определенную единицу измерений $\\lambda=p\\cdot n\\ $\\\n",
    "***m*** - вероятность наступления события   "
   ]
  },
  {
   "cell_type": "code",
   "execution_count": 18,
   "id": "ab8d07dc",
   "metadata": {},
   "outputs": [],
   "source": [
    "def get_Poisson_distribution(p, n, m):\n",
    "    return ((p * n)** m) / factorial(m) * exp(-p * n)"
   ]
  },
  {
   "cell_type": "markdown",
   "id": "c063c4b4",
   "metadata": {},
   "source": [
    "Рассчитаем вероятность, когда ни одна из лампочек не перегорит в первый день"
   ]
  },
  {
   "cell_type": "code",
   "execution_count": 23,
   "id": "f26344dd",
   "metadata": {},
   "outputs": [
    {
     "name": "stdout",
     "output_type": "stream",
     "text": [
      "P_0 = 0.135\n"
     ]
    }
   ],
   "source": [
    "P_0 = get_Poisson_distribution(0.0004, 5000, 0)\n",
    "print(f'P_0 = {round(P_0, 3)}')"
   ]
  },
  {
   "cell_type": "markdown",
   "id": "a831fd9a",
   "metadata": {},
   "source": [
    "Рассчитаем вероятность, когда в первый день перегорят 2 лампочки"
   ]
  },
  {
   "cell_type": "code",
   "execution_count": 25,
   "id": "c871dd0b",
   "metadata": {},
   "outputs": [
    {
     "name": "stdout",
     "output_type": "stream",
     "text": [
      "P_2 = 0.271\n"
     ]
    }
   ],
   "source": [
    "P_2 = get_Poisson_distribution(0.0004, 5000, 2)\n",
    "print(f'P_2 = {round(P_2, 3)}')"
   ]
  },
  {
   "cell_type": "markdown",
   "id": "da1d5389",
   "metadata": {},
   "source": [
    "***\n",
    "### Ответ:\n",
    "**Вероятность того, что в первый день не перегорит ни одна лампочка ***Р*** (0 лампочек) ~ 0,135**\\\n",
    "**Вероятность того, что в первый день перегорит две лампочки ***Р*** (2 лампочи) ~ 0,271**\n",
    "***"
   ]
  },
  {
   "cell_type": "markdown",
   "id": "3b81adad",
   "metadata": {},
   "source": [
    "### Задача 3\n",
    "Монету подбросили 144 раза. Какова вероятность, что орел выпадет ровно 70 раз?"
   ]
  },
  {
   "cell_type": "markdown",
   "id": "4f6df432",
   "metadata": {},
   "source": [
    "Для решения задачи будем использовать формулу Бернулли. Вероятность наступления события 0,5. Противоположная вероятность 0,5."
   ]
  },
  {
   "cell_type": "code",
   "execution_count": 26,
   "id": "3badacf5",
   "metadata": {},
   "outputs": [
    {
     "name": "stdout",
     "output_type": "stream",
     "text": [
      "P = 0.063\n"
     ]
    }
   ],
   "source": [
    "P = get_bernulli(144, 70, 0.5)\n",
    "print(f'P = {round(P, 3)}')"
   ]
  },
  {
   "cell_type": "markdown",
   "id": "979965eb",
   "metadata": {},
   "source": [
    "***\n",
    "### Ответ:\n",
    "**Вероятность того, что орел выпадет 70 раз ***Р*** (70 раз) ~ 0,063**"
   ]
  },
  {
   "cell_type": "markdown",
   "id": "b4691c35",
   "metadata": {},
   "source": [
    "### Задача 4\n",
    "В первом ящике находится 10 мячей, из которых 7 - белые. Во втором ящике - 11 мячей, из которых 9 белых. Из каждого ящика вытаскивают случайным образом по два мяча.\\\n",
    "а) Какова вероятность того, что все мячи белые?\\\n",
    "б) Какова вероятность того, что ровно два мяча белые?\\\n",
    "в) Какова вероятность того, что хотя бы один мяч белый?"
   ]
  },
  {
   "cell_type": "markdown",
   "id": "3cbb048a",
   "metadata": {},
   "source": [
    "#### Решение\n",
    "для определения вероятности воспользуемся формулой классической вероятности $ P(A)=\\frac{m}{n} $,\\\n",
    "где ***m*** - число благоприятных исходов, ***n*** - общее количество исходов.\n",
    "\n",
    "Для вычисления количества исходов, используем формулу количества сочетаний $ C\\binom{n}{k} = \\frac{n!}{k!(n-k)!} $,\\\n",
    "где ***n*** - количество элементов (множество), ***k*** - количество сочетаний."
   ]
  },
  {
   "cell_type": "markdown",
   "id": "25c5c38e",
   "metadata": {},
   "source": [
    "а) один благоприятный исход одновременного наступления событий А и В"
   ]
  },
  {
   "cell_type": "code",
   "execution_count": 27,
   "id": "fde27a1f",
   "metadata": {},
   "outputs": [],
   "source": [
    "def get_combinations(n, k):\n",
    "    return int(factorial(n) / (factorial(k) * factorial(n - k))) "
   ]
  },
  {
   "cell_type": "markdown",
   "id": "3cc39a39",
   "metadata": {},
   "source": [
    "Рассчитаем общее количество исходов в первом ящике и втором ящиках"
   ]
  },
  {
   "cell_type": "code",
   "execution_count": 28,
   "id": "e44ed17a",
   "metadata": {},
   "outputs": [],
   "source": [
    "n_1 = get_combinations(10, 2)\n",
    "n_2 = get_combinations(11, 2)"
   ]
  },
  {
   "cell_type": "code",
   "execution_count": 30,
   "id": "e071a648",
   "metadata": {},
   "outputs": [
    {
     "name": "stdout",
     "output_type": "stream",
     "text": [
      "общее количество исходов в первом ящике = 45\n",
      "общее количество исходов во втором ящике = 55\n"
     ]
    }
   ],
   "source": [
    "print(f'общее количество исходов в первом ящике = {round(n_1, 3)}')\n",
    "print(f'общее количество исходов во втором ящике = {round(n_2, 3)}')"
   ]
  },
  {
   "cell_type": "markdown",
   "id": "3ac73b3f",
   "metadata": {},
   "source": [
    "Рассчитаем благоприятное количество исходов в первом и втором ящиках"
   ]
  },
  {
   "cell_type": "code",
   "execution_count": 31,
   "id": "5858248e",
   "metadata": {},
   "outputs": [],
   "source": [
    "m_1 = get_combinations(7, 2)\n",
    "m_2 = get_combinations(9, 2)"
   ]
  },
  {
   "cell_type": "code",
   "execution_count": 32,
   "id": "79154960",
   "metadata": {},
   "outputs": [
    {
     "name": "stdout",
     "output_type": "stream",
     "text": [
      "благоприятное количество исходов в первом ящике = 21\n",
      "благоприятное количество исходов во втором ящике = 36\n"
     ]
    }
   ],
   "source": [
    "print(f'благоприятное количество исходов в первом ящике = {round(m_1, 3)}')\n",
    "print(f'благоприятное количество исходов во втором ящике = {round(m_2, 3)}')"
   ]
  },
  {
   "cell_type": "markdown",
   "id": "03d4849f",
   "metadata": {},
   "source": [
    "Рассчитаем вероятность наступления событий ***Р(А)*** для первого ящика и ***Р(В)*** для второго ящика"
   ]
  },
  {
   "cell_type": "code",
   "execution_count": 34,
   "id": "cdcbef52",
   "metadata": {},
   "outputs": [
    {
     "name": "stdout",
     "output_type": "stream",
     "text": [
      "Вероятность что 2 мяча из 1 ящика белые = 0.467 \n",
      "Вероятность что 2 мяча из 2 ящика белые = 0.655 \n"
     ]
    }
   ],
   "source": [
    "print(f'Вероятность что 2 мяча из 1 ящика белые = {round(m_1 / n_1, 3)} ')\n",
    "print(f'Вероятность что 2 мяча из 2 ящика белые = {round(m_2 / n_2, 3)} ')"
   ]
  },
  {
   "cell_type": "markdown",
   "id": "82ea9f11",
   "metadata": {},
   "source": [
    "Рассчитаем вероятность одновременного наступления событий А и В"
   ]
  },
  {
   "cell_type": "code",
   "execution_count": 51,
   "id": "8e39a707",
   "metadata": {},
   "outputs": [
    {
     "name": "stdout",
     "output_type": "stream",
     "text": [
      "Вероятность что все мячи белые = 0.305\n"
     ]
    }
   ],
   "source": [
    "P = (m_1 / n_1) * (m_2 / n_2)\n",
    "print(f'Вероятность что все мячи белые = {round(P, 3)}')"
   ]
  },
  {
   "cell_type": "markdown",
   "id": "e3b47815",
   "metadata": {},
   "source": [
    "***\n",
    "### Ответ:\n",
    "**а) Вероятность того, что все мячи белые ***Р*** ~ 0,306**"
   ]
  },
  {
   "cell_type": "markdown",
   "id": "36bcd1a5",
   "metadata": {},
   "source": [
    "б) в этом случае будет 6 благоприятных исходов:\n",
    "1) События ***A*** - из первой корзины извлекли 2 белых шара и ***B*** - из второй корзины извлекли 2 небелых шара;\n",
    "2) События ***C*** - из первой корзины извлекли 1 белый и 1 небелый шар и ***D*** - из второй корзины извлекли 1 белый и 1 небелый шар; - 4 вариации\n",
    "3) События ***E*** - из первой корзины извлекли 2 небелых шара и ***F*** - из второй корзины извлекли 2 белых шара \\\n",
    "Задачу решим через определение суммы событий:\n"
   ]
  },
  {
   "cell_type": "code",
   "execution_count": 41,
   "id": "f9a19e78",
   "metadata": {},
   "outputs": [
    {
     "name": "stdout",
     "output_type": "stream",
     "text": [
      "Вероятность того, что будут вытащены ровно 2 белых мяча Р = 0.205\n"
     ]
    }
   ],
   "source": [
    "P=((7/10)*(6/9)*(2/11)*(1/10))+4*((7/10)*(3/9)*(9/11)*(2/10))+((3/10)*(2/9)*(9/11)*(8/10))\n",
    "print(f'Вероятность того, что будут вытащены ровно 2 белых мяча Р = {round(P, 3)}')"
   ]
  },
  {
   "cell_type": "markdown",
   "id": "379e0956",
   "metadata": {},
   "source": [
    "***\n",
    "### Ответ:\n",
    "**б) Вероятность того, что два мяча белые ***Р*** ~ 0,205**"
   ]
  },
  {
   "cell_type": "markdown",
   "id": "9e9eb7a9",
   "metadata": {},
   "source": [
    "в) данную задачу легче решить через вычитание из 1 вероятности что все мячи небелые"
   ]
  },
  {
   "cell_type": "markdown",
   "id": "9d492540",
   "metadata": {},
   "source": [
    "Рассчитаем благоприятное количество исходов в первом и втором ящиках"
   ]
  },
  {
   "cell_type": "code",
   "execution_count": 53,
   "id": "ebd903bd",
   "metadata": {},
   "outputs": [],
   "source": [
    "m_1 = get_combinations(3, 2)\n",
    "m_2 = get_combinations(2, 2)"
   ]
  },
  {
   "cell_type": "code",
   "execution_count": 54,
   "id": "b07b5be0",
   "metadata": {},
   "outputs": [
    {
     "name": "stdout",
     "output_type": "stream",
     "text": [
      "благоприятное количество исходов в первом ящике = 3\n",
      "благоприятное количество исходов во втором ящике = 1\n"
     ]
    }
   ],
   "source": [
    "print(f'благоприятное количество исходов в первом ящике = {round(m_1, 3)}')\n",
    "print(f'благоприятное количество исходов во втором ящике = {round(m_2, 3)}')"
   ]
  },
  {
   "cell_type": "code",
   "execution_count": 55,
   "id": "ff8fe482",
   "metadata": {},
   "outputs": [
    {
     "name": "stdout",
     "output_type": "stream",
     "text": [
      "Вероятность что 2 мяча из 1 ящика небелые = 0.067 \n",
      "Вероятность что 2 мяча из 2 ящика небелые = 0.018 \n"
     ]
    }
   ],
   "source": [
    "print(f'Вероятность что 2 мяча из 1 ящика небелые = {round(m_1 / n_1, 3)} ')\n",
    "print(f'Вероятность что 2 мяча из 2 ящика небелые = {round(m_2 / n_2, 3)} ')"
   ]
  },
  {
   "cell_type": "code",
   "execution_count": 56,
   "id": "ebebddcd",
   "metadata": {},
   "outputs": [
    {
     "name": "stdout",
     "output_type": "stream",
     "text": [
      "Вероятность что все мячи небелые = 0.001\n"
     ]
    }
   ],
   "source": [
    "P = (m_1 / n_1) * (m_2 / n_2)\n",
    "print(f'Вероятность что все мячи небелые = {round(P, 3)}')"
   ]
  },
  {
   "cell_type": "code",
   "execution_count": 59,
   "id": "c9ae0d42",
   "metadata": {},
   "outputs": [
    {
     "name": "stdout",
     "output_type": "stream",
     "text": [
      "Вероятность что хотя бы 1 мяч белый = 0.999\n"
     ]
    }
   ],
   "source": [
    "print(f'Вероятность что хотя бы 1 мяч белый = {round(1 - P, 3)}')"
   ]
  },
  {
   "cell_type": "markdown",
   "id": "864f2c06",
   "metadata": {},
   "source": [
    "***\n",
    "### Ответ:\n",
    "**б) Вероятность того, что хотя бы 1 мяч белый ***Р*** ~ 0,999**"
   ]
  }
 ],
 "metadata": {
  "kernelspec": {
   "display_name": "Python 3 (ipykernel)",
   "language": "python",
   "name": "python3"
  },
  "language_info": {
   "codemirror_mode": {
    "name": "ipython",
    "version": 3
   },
   "file_extension": ".py",
   "mimetype": "text/x-python",
   "name": "python",
   "nbconvert_exporter": "python",
   "pygments_lexer": "ipython3",
   "version": "3.11.3"
  }
 },
 "nbformat": 4,
 "nbformat_minor": 5
}
