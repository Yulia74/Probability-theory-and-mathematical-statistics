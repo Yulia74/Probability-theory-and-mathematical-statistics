{
 "cells": [
  {
   "cell_type": "markdown",
   "id": "4fc21424",
   "metadata": {},
   "source": [
    "## Домашнее задание №4\n",
    "***"
   ]
  },
  {
   "cell_type": "markdown",
   "id": "1b8c1af4",
   "metadata": {},
   "source": [
    "### Задача 1\n",
    "Случайная непрерывная величина A имеет равномерное распределение на промежутке (200, 800].\n",
    "Найдите ее среднее значение и дисперсию."
   ]
  },
  {
   "cell_type": "code",
   "execution_count": 1,
   "id": "402a1cc2",
   "metadata": {},
   "outputs": [],
   "source": [
    "import numpy as np"
   ]
  },
  {
   "cell_type": "code",
   "execution_count": 46,
   "id": "8f973b75",
   "metadata": {},
   "outputs": [],
   "source": [
    "from statistics import NormalDist"
   ]
  },
  {
   "cell_type": "markdown",
   "id": "980e9f6d",
   "metadata": {},
   "source": [
    "#### Решение\n",
    "По условию задачи, случайная непрерывная величина А имеет равномерное распределение на отрезке $(a;b]$\\\n",
    "Для рассчета средней арифметической (математического ожидания) используем формулу:\\\n",
    "$\\displaystyle\\text {Математическое ожидание: }M(X)=\\frac{a+b}{2}$  "
   ]
  },
  {
   "cell_type": "code",
   "execution_count": 47,
   "id": "812162ae",
   "metadata": {},
   "outputs": [],
   "source": [
    "def Get_average_value(a, b):\n",
    "    return (a + b)/2"
   ]
  },
  {
   "cell_type": "code",
   "execution_count": 48,
   "id": "3d25e00f",
   "metadata": {},
   "outputs": [
    {
     "name": "stdout",
     "output_type": "stream",
     "text": [
      "Среднее значение М(А) =  500.00\n"
     ]
    }
   ],
   "source": [
    "print(f'Среднее значение М(А) = {Get_average_value(200, 800): .2f}')"
   ]
  },
  {
   "cell_type": "markdown",
   "id": "72f22d70",
   "metadata": {},
   "source": [
    "для расчета дисперсии, воспользуемся формулой: $\\\\\\displaystyle\\text {Дисперсия: }D(X)=\\frac{(b-a)^2}{12}$ "
   ]
  },
  {
   "cell_type": "code",
   "execution_count": 49,
   "id": "7ab3c95d",
   "metadata": {},
   "outputs": [],
   "source": [
    "def Get_variance(a, b):\n",
    "    return ((b - a)**2)/12"
   ]
  },
  {
   "cell_type": "code",
   "execution_count": 50,
   "id": "e794858c",
   "metadata": {},
   "outputs": [
    {
     "name": "stdout",
     "output_type": "stream",
     "text": [
      "Дисперсия D(А) =  30000.00\n"
     ]
    }
   ],
   "source": [
    "print(f'Дисперсия D(А) = {Get_variance(200, 800): .2f}')"
   ]
  },
  {
   "cell_type": "markdown",
   "id": "19843dd3",
   "metadata": {},
   "source": [
    "---\n",
    "### Ответ:\n",
    "**Среднее арифметическое М(А) = 500.00**\\\n",
    "**Дисперсия D(A) = 30 000.00**\n",
    "\n",
    "---"
   ]
  },
  {
   "cell_type": "markdown",
   "id": "f0d9bb51",
   "metadata": {},
   "source": [
    "### Задача 2\n",
    "О случайной непрерывной равномерно распределенной величине B известно, что ее дисперсия равна 0.2.\n",
    "Можно ли найти правую границу величины B и ее среднее значение зная, что левая граница равна 0.5?\n",
    "Если да, найдите ее."
   ]
  },
  {
   "cell_type": "markdown",
   "id": "f7c3ecc4",
   "metadata": {},
   "source": [
    "#### Решение\n",
    "По условию задачи имеем: равномерное распределение, $D(B)=0.2$ и $a=0.5$  \n",
    "Подставив значения в формулу дисперсии найдем правую границу $b$ \n",
    "$\\displaystyle \\frac{(b-0.5)^2}{12}=0.2\\\\(b-0.5)^2=0.2*12\\\\b-0.5=\\sqrt{2.4}\\\\b=0.5+\\sqrt{2.4}$  "
   ]
  },
  {
   "cell_type": "code",
   "execution_count": 51,
   "id": "24b58834",
   "metadata": {},
   "outputs": [
    {
     "name": "stdout",
     "output_type": "stream",
     "text": [
      "Правая граница непрерывной величины В =  2.049\n"
     ]
    }
   ],
   "source": [
    "b = 0.5 + 2.4**(1/2)\n",
    "print(f'Правая граница непрерывной величины В = {b: .3f}')"
   ]
  },
  {
   "cell_type": "markdown",
   "id": "898e3eab",
   "metadata": {},
   "source": [
    "Зная правую границу, найдем среднее арифеметическое:  \n",
    "$\\displaystyle M(B)=\\frac{a+b}{2}$"
   ]
  },
  {
   "cell_type": "code",
   "execution_count": 52,
   "id": "e4a5c3ed",
   "metadata": {},
   "outputs": [
    {
     "name": "stdout",
     "output_type": "stream",
     "text": [
      "Среднее значение М(А) =  1.275\n"
     ]
    }
   ],
   "source": [
    "print(f'Среднее значение М(А) = {Get_average_value(0.5, b): .3f}')"
   ]
  },
  {
   "cell_type": "markdown",
   "id": "535a8495",
   "metadata": {},
   "source": [
    "---\n",
    "### Ответ:\n",
    "**Правая граница непрерывной величины В = 2.049**\\\n",
    "**Среднее арифметическое М(В) = 1.275**\n",
    "\n",
    "---"
   ]
  },
  {
   "cell_type": "markdown",
   "id": "36a2e6b8",
   "metadata": {},
   "source": [
    "### Задача 3\n",
    "Непрерывная случайная величина X распределена нормально и задана плотностью распределения\\\n",
    " $\\displaystyle f(x)=\\frac{1}{4\\cdot\\sqrt{2\\pi}}\\cdot e^{-\\frac{(x+2)^2}{32}}$,\\\n",
    " Найдите:  \n",
    "   а) $M(X)$  \n",
    "   б) $D(X)$  \n",
    "   в) $\\displaystyle\\sigma$ (среднее квадратичное отклонение)"
   ]
  },
  {
   "cell_type": "markdown",
   "id": "cf259e65",
   "metadata": {},
   "source": [
    "#### Решение\n",
    "В функции плотности распределения уже подставлены параметры, выберем их:"
   ]
  },
  {
   "cell_type": "markdown",
   "id": "d2527b50",
   "metadata": {},
   "source": [
    "---  \n",
    "#### Ответ:  \n",
    "$M(X)=-2\\\\D(X)=16\\\\\\displaystyle\\sigma=4$  \n",
    "\n",
    "---"
   ]
  },
  {
   "cell_type": "markdown",
   "id": "6b5d7130",
   "metadata": {},
   "source": [
    "### Задача 4\n",
    "Рост взрослого населения города X имеет нормальное распределение.\n",
    "Причем, средний рост равен 174 см, а среднее квадратичное отклонение равно 8 см.\n",
    "\n",
    "Какова вероятность того, что случайным образом выбранный взрослый человек имеет рост:\\\n",
    "а) больше 182 см\\\n",
    "б) больше 190 см\\\n",
    "в) от 166 см до 190 см\\\n",
    "г) от 166 см до 182 см\\\n",
    "д) от 158 см до 190 см\\\n",
    "е) не выше 150 см или не ниже 190 см\\\n",
    "ё) не выше 150 см или не ниже 198 см\\\n",
    "ж) ниже 166 см."
   ]
  },
  {
   "cell_type": "markdown",
   "id": "c0263b96",
   "metadata": {},
   "source": [
    "#### Решение\n",
    "Для решения задачи, воспользуемся формулой $\\displaystyle\\text {Z - значения: }Z=\\frac{X-\\mu}{\\sigma}$\\\n",
    "соответствующие значения вероятности можно посмотреть на этом [ресурсе](https://datascience.eu/ru/%D0%BC%D0%B0%D1%82%D0%B5%D0%BC%D0%B0%D1%82%D0%B8%D0%BA%D0%B0-%D0%B8-%D1%81%D1%82%D0%B0%D1%82%D0%B8%D1%81%D1%82%D0%B8%D0%BA%D0%B0/z-%D1%82%D0%B0%D0%B1%D0%BB%D0%B8%D1%86%D0%B0/)\\\n",
    " Для расчет вероятности воспользуемся методом cdf, объекта NormalDist библиотеки statistics\n"
   ]
  },
  {
   "cell_type": "code",
   "execution_count": 72,
   "id": "39a2778f",
   "metadata": {},
   "outputs": [],
   "source": [
    "def Get_z_probability(x, m, s):\n",
    "    return NormalDist().cdf((x - m)/s)"
   ]
  },
  {
   "cell_type": "code",
   "execution_count": 94,
   "id": "426fa6f4",
   "metadata": {},
   "outputs": [
    {
     "name": "stdout",
     "output_type": "stream",
     "text": [
      "Вероятность, что рост случайным образом выбранного человека больше 182 см =  0.1587\n"
     ]
    }
   ],
   "source": [
    "print(f'Вероятность, что рост случайным образом выбранного человека больше 182 см = {1 - Get_z_probability(182, 174, 8): .4f}')"
   ]
  },
  {
   "cell_type": "code",
   "execution_count": 84,
   "id": "584f22d9",
   "metadata": {},
   "outputs": [
    {
     "name": "stdout",
     "output_type": "stream",
     "text": [
      "Вероятность, что рост случайным образом выбранного человека больше 190 см =  0.0228\n"
     ]
    }
   ],
   "source": [
    "print(f'Вероятность, что рост случайным образом выбранного человека больше 190 см = {1 - Get_z_probability(190, 174, 8): .4f}')"
   ]
  },
  {
   "cell_type": "code",
   "execution_count": 85,
   "id": "e23c0c07",
   "metadata": {},
   "outputs": [
    {
     "name": "stdout",
     "output_type": "stream",
     "text": [
      "Вероятность, что рост случайным образом выбранного человека от 166 см до 190 см =  0.8186\n"
     ]
    }
   ],
   "source": [
    "print(f'Вероятность, что рост случайным образом выбранного человека от 166 см до 190 см = {Get_z_probability(190, 174, 8) - Get_z_probability(166, 174, 8): .4f}')"
   ]
  },
  {
   "cell_type": "code",
   "execution_count": 86,
   "id": "3624b6ba",
   "metadata": {},
   "outputs": [
    {
     "name": "stdout",
     "output_type": "stream",
     "text": [
      "Вероятность, что рост случайным образом выбранного человека от 166 см до 182 см =  0.6827\n"
     ]
    }
   ],
   "source": [
    "print(f'Вероятность, что рост случайным образом выбранного человека от 166 см до 182 см = {Get_z_probability(182, 174, 8) - Get_z_probability(166, 174, 8): .4f}')"
   ]
  },
  {
   "cell_type": "code",
   "execution_count": 87,
   "id": "5a2f7e5e",
   "metadata": {},
   "outputs": [
    {
     "name": "stdout",
     "output_type": "stream",
     "text": [
      "Вероятность, что рост случайным образом выбранного человека от 158 см до 190 см =  0.9545\n"
     ]
    }
   ],
   "source": [
    "print(f'Вероятность, что рост случайным образом выбранного человека от 158 см до 190 см = {Get_z_probability(190, 174, 8) - Get_z_probability(158, 174, 8): .4f}')"
   ]
  },
  {
   "cell_type": "code",
   "execution_count": 91,
   "id": "dd290881",
   "metadata": {},
   "outputs": [
    {
     "name": "stdout",
     "output_type": "stream",
     "text": [
      "Вероятность, что рост случайным образом выбранного человека не выше 150 см или не ниже 190 см =  0.0241\n"
     ]
    }
   ],
   "source": [
    "print(f'Вероятность, что рост случайным образом выбранного человека не выше 150 см или не ниже 190 см = {Get_z_probability(150, 174, 8) + (1 - Get_z_probability(190, 174, 8)) : .4f}')"
   ]
  },
  {
   "cell_type": "code",
   "execution_count": 92,
   "id": "0ac57bcc",
   "metadata": {},
   "outputs": [
    {
     "name": "stdout",
     "output_type": "stream",
     "text": [
      "Вероятность, что рост случайным образом выбранного человека не выше 150 см или не ниже 198 см =  0.0027\n"
     ]
    }
   ],
   "source": [
    "print(f'Вероятность, что рост случайным образом выбранного человека не выше 150 см или не ниже 198 см = {Get_z_probability(150, 174, 8) + (1 - Get_z_probability(198, 174, 8)) : .4f}')"
   ]
  },
  {
   "cell_type": "code",
   "execution_count": 93,
   "id": "10c2f9ae",
   "metadata": {},
   "outputs": [
    {
     "name": "stdout",
     "output_type": "stream",
     "text": [
      "Вероятность, что рост случайным образом выбранного человека ниже 166 см =  0.1587\n"
     ]
    }
   ],
   "source": [
    "print(f'Вероятность, что рост случайным образом выбранного человека ниже 166 см = {Get_z_probability(166, 174, 8) : .4f}')"
   ]
  },
  {
   "cell_type": "markdown",
   "id": "e8996f65",
   "metadata": {},
   "source": [
    "---  \n",
    "#### Ответ:  \n",
    "**а) Вероятность, что рост случайным образом выбранного человека больше 182 см =  0.1587\\\n",
    "б) Вероятность, что рост случайным образом выбранного человека больше 190 см =  0.0228\\\n",
    "в) Вероятность, что рост случайным образом выбранного человека от 166 см до 190 см =  0.8186\\\n",
    "г) Вероятность, что рост случайным образом выбранного человека от 166 см до 182 см =  0.6827\\\n",
    "д) Вероятность, что рост случайным образом выбранного человека от 158 см до 190 см =  0.9545\\\n",
    "е) Вероятность, что рост случайным образом выбранного человека не выше 150 см или не ниже 190 см =  0.0241\\\n",
    "ж) Вероятность, что рост случайным образом выбранного человека не выше 150 см или не ниже 198 см =  0.0027\\\n",
    "з) Вероятность, что рост случайным образом выбранного человека ниже 166 см =  0.1587**\n",
    "\n",
    "---"
   ]
  },
  {
   "cell_type": "markdown",
   "id": "e07ecf4f",
   "metadata": {},
   "source": [
    "### Задача 5\n",
    " На сколько сигм (средних квадратичных отклонений) отклоняется рост человека, равный 190 см, от математического ожидания роста в популяции, в которой M(X) = 178 см и D(X) = 25 кв.см?"
   ]
  },
  {
   "cell_type": "markdown",
   "id": "ad9bde02",
   "metadata": {},
   "source": [
    "#### Решение\n",
    "Для решения задачи, воспользуемся формулой $\\displaystyle\\text {Z - значения: }Z=\\frac{X-\\mu}{\\sigma}$"
   ]
  },
  {
   "cell_type": "code",
   "execution_count": 98,
   "id": "70902b08",
   "metadata": {},
   "outputs": [
    {
     "name": "stdout",
     "output_type": "stream",
     "text": [
      "Рост человека 190 см отклоняется от математического ожидания в популяции в которой M(X) = 178 см и D(X) = 25 кв.см на 2.4 сигмы\n"
     ]
    }
   ],
   "source": [
    "quantity = (190-178)/25**(1/2)\n",
    "print(f'Рост человека 190 см отклоняется от математического ожидания в популяции в которой M(X) = 178 см и D(X) = 25 кв.см на {quantity} сигмы')"
   ]
  },
  {
   "cell_type": "markdown",
   "id": "fe37c61a",
   "metadata": {},
   "source": [
    "---  \n",
    "#### Ответ:  \n",
    "Рост человека 190 см отклоняется от математического ожидания в популяции в которой M(X) = 178 см и D(X) = 25 кв.см на 2.4 сигмы\n",
    "\n",
    "---"
   ]
  }
 ],
 "metadata": {
  "kernelspec": {
   "display_name": "Python 3 (ipykernel)",
   "language": "python",
   "name": "python3"
  },
  "language_info": {
   "codemirror_mode": {
    "name": "ipython",
    "version": 3
   },
   "file_extension": ".py",
   "mimetype": "text/x-python",
   "name": "python",
   "nbconvert_exporter": "python",
   "pygments_lexer": "ipython3",
   "version": "3.11.3"
  }
 },
 "nbformat": 4,
 "nbformat_minor": 5
}
