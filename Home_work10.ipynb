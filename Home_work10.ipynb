{
 "cells": [
  {
   "cell_type": "markdown",
   "id": "987e3463",
   "metadata": {},
   "source": [
    "***\n",
    "## Домашнее задание №9\n",
    "***"
   ]
  },
  {
   "cell_type": "code",
   "execution_count": 1,
   "id": "9e516bc4",
   "metadata": {},
   "outputs": [],
   "source": [
    "import numpy as np"
   ]
  },
  {
   "cell_type": "code",
   "execution_count": 2,
   "id": "f6e606cf",
   "metadata": {},
   "outputs": [],
   "source": [
    "import scipy.stats as stat"
   ]
  },
  {
   "cell_type": "code",
   "execution_count": 3,
   "id": "2481ddb5",
   "metadata": {},
   "outputs": [],
   "source": [
    "import pandas as pd"
   ]
  },
  {
   "cell_type": "markdown",
   "id": "c54fdc9f",
   "metadata": {},
   "source": [
    "### Задача 1\n",
    "Провести дисперсионный анализ для определения того, есть ли различия среднего роста среди взрослых футболистов, хоккеистов и штангистов.\\\n",
    "Даны значения роста в трех группах случайно выбранных спортсменов:\\\n",
    "Футболисты: 173, 175, 180, 178, 177, 185, 183, 182\\\n",
    "Хоккеисты: 177, 179, 180, 188, 177, 172, 171, 184, 180\\\n",
    "Штангисты: 172, 173, 169, 177, 166, 180, 178, 177, 172, 166, 170"
   ]
  },
  {
   "cell_type": "markdown",
   "id": "724caa0a",
   "metadata": {},
   "source": [
    "### Решение\n",
    "1. Сформулируем нулевую и альтернативные гипотезы:  \n",
    "Нулевая гипотеза:\\\n",
    "$H0 : \\mu_1=\\mu_2=\\mu_3$  т.е. средний рост спортсмена не зависит от вида спорта, которым он занимается  \n",
    "Альтернативная гипотеза:  \n",
    "$H1: \\mu_1\\neq\\mu_2\\neq\\mu_3$ т.е. средний рост спортсмена зависит от вида спорта, которым он занимается"
   ]
  },
  {
   "cell_type": "code",
   "execution_count": 22,
   "id": "882cd366",
   "metadata": {},
   "outputs": [],
   "source": [
    "x1 = np.array([173, 175, 180, 178, 177, 185, 183, 182])\n",
    "x2 = np.array([177, 179, 180, 188, 177, 172, 171, 184, 180])\n",
    "x3 = np.array([172, 173, 169, 177, 166, 180, 178, 177, 172, 166, 170])\n",
    "total = np.hstack([x1, x2, x3])\n",
    "k = 3\n",
    "n = len(x1) + len(x2) + len(x3)  # n = 28"
   ]
  },
  {
   "cell_type": "markdown",
   "id": "576f7f57",
   "metadata": {},
   "source": [
    "2. Найдем средние значения по каждой выборке и в целом по значениям"
   ]
  },
  {
   "cell_type": "code",
   "execution_count": 44,
   "id": "8f60d3e9",
   "metadata": {},
   "outputs": [
    {
     "name": "stdout",
     "output_type": "stream",
     "text": [
      "Среднее арифметическое по выборке х1 (футболисты) =  179.1\n"
     ]
    }
   ],
   "source": [
    "mean_x1 = np.mean(x1)\n",
    "print(f'Среднее арифметическое по выборке х1 (футболисты) = {mean_x1: .1f}')"
   ]
  },
  {
   "cell_type": "code",
   "execution_count": 45,
   "id": "4aecd186",
   "metadata": {},
   "outputs": [
    {
     "name": "stdout",
     "output_type": "stream",
     "text": [
      "Среднее арифметическое по выборке х2 (хоккеисты) =  178.7\n"
     ]
    }
   ],
   "source": [
    "mean_x2 = np.mean(x2)\n",
    "print(f'Среднее арифметическое по выборке х2 (хоккеисты) = {mean_x2: .1f}')"
   ]
  },
  {
   "cell_type": "code",
   "execution_count": 46,
   "id": "bf266853",
   "metadata": {},
   "outputs": [
    {
     "name": "stdout",
     "output_type": "stream",
     "text": [
      "Среднее арифметическое по выборке х3 (штангисты) =  172.7\n"
     ]
    }
   ],
   "source": [
    "mean_x3 = np.mean(x3)\n",
    "print(f'Среднее арифметическое по выборке х3 (штангисты) = {mean_x3: .1f}')"
   ]
  },
  {
   "cell_type": "code",
   "execution_count": 27,
   "id": "f959d53d",
   "metadata": {},
   "outputs": [
    {
     "name": "stdout",
     "output_type": "stream",
     "text": [
      "Среднее арифметическое всего =  176.5\n"
     ]
    }
   ],
   "source": [
    "mean_total = np.mean(total)\n",
    "print(f'Среднее арифметическое всего = {mean_total: .1f}')"
   ]
  },
  {
   "cell_type": "markdown",
   "id": "7dd7e5b9",
   "metadata": {},
   "source": [
    "3. Рассчитаем сумму квадратов отклонений факторную и остаточную"
   ]
  },
  {
   "cell_type": "code",
   "execution_count": 47,
   "id": "98544906",
   "metadata": {},
   "outputs": [
    {
     "name": "stdout",
     "output_type": "stream",
     "text": [
      "Сумма квадратов отклонений наблюдений от общего среднего =  830.964\n"
     ]
    }
   ],
   "source": [
    "S = np.sum((total - mean_total) ** 2)\n",
    "print(f'Сумма квадратов отклонений наблюдений от общего среднего = {S: .3f}')"
   ]
  },
  {
   "cell_type": "code",
   "execution_count": 51,
   "id": "8dad2968",
   "metadata": {},
   "outputs": [
    {
     "name": "stdout",
     "output_type": "stream",
     "text": [
      "Сумма квадратов отклонений средний групповых значений от общего среднего =  253.907\n"
     ]
    }
   ],
   "source": [
    "S_f = np.sum((mean_x1 - mean_total)**2) * len(x1) + np.sum((mean_x2 - mean_total)**2) * len(x2) + np.sum((mean_x3 - mean_total)**2) * len(x3)\n",
    "print(f'Сумма квадратов отклонений средний групповых значений от общего среднего = {S_f: .3f}')"
   ]
  },
  {
   "cell_type": "code",
   "execution_count": 52,
   "id": "68e0f9b8",
   "metadata": {},
   "outputs": [
    {
     "name": "stdout",
     "output_type": "stream",
     "text": [
      "Остаточная сумма квадратных отклонений =  577.057\n"
     ]
    }
   ],
   "source": [
    "S_ost = np.sum((x1 - mean_x1)**2) + np.sum((x2 - mean_x2)**2) + np.sum((x3 - mean_x3)**2)\n",
    "print(f'Остаточная сумма квадратных отклонений = {S_ost: .3f}')"
   ]
  },
  {
   "cell_type": "code",
   "execution_count": 53,
   "id": "a7b11809",
   "metadata": {},
   "outputs": [
    {
     "data": {
      "text/plain": [
       "True"
      ]
     },
     "execution_count": 53,
     "metadata": {},
     "output_type": "execute_result"
    }
   ],
   "source": [
    "253.907 + 577.057 == 830.964      # проверка "
   ]
  },
  {
   "cell_type": "markdown",
   "id": "74de063f",
   "metadata": {},
   "source": [
    "4. Рассчитаем наблюдаемое (расчетное) и табличное значения критерия Фишера"
   ]
  },
  {
   "cell_type": "code",
   "execution_count": 55,
   "id": "16283582",
   "metadata": {},
   "outputs": [
    {
     "name": "stdout",
     "output_type": "stream",
     "text": [
      "Дисперсия факторная =  126.954\n"
     ]
    }
   ],
   "source": [
    "D_f = S_f / (k - 1)\n",
    "print(f'Дисперсия факторная = {D_f: .3f}')"
   ]
  },
  {
   "cell_type": "code",
   "execution_count": 57,
   "id": "1c6eecf0",
   "metadata": {},
   "outputs": [
    {
     "name": "stdout",
     "output_type": "stream",
     "text": [
      "Дисперсия остаточная =  23.082\n"
     ]
    }
   ],
   "source": [
    "D_ost = S_ost / (n - k)\n",
    "print(f'Дисперсия остаточная = {D_ost: .3f}')"
   ]
  },
  {
   "cell_type": "code",
   "execution_count": 76,
   "id": "0d12862a",
   "metadata": {},
   "outputs": [
    {
     "name": "stdout",
     "output_type": "stream",
     "text": [
      "Наблюдаемое (расчетное) значение критерия Фишера =  5.500\n"
     ]
    }
   ],
   "source": [
    "F_n = D_f / D_ost\n",
    "print(f'Наблюдаемое (расчетное) значение критерия Фишера = {F_n: .3f}')"
   ]
  },
  {
   "cell_type": "code",
   "execution_count": 64,
   "id": "ee0ae6cb",
   "metadata": {},
   "outputs": [
    {
     "name": "stdout",
     "output_type": "stream",
     "text": [
      "Степени свободы для определения табличного значения критерия Фишера: (2, 25)\n"
     ]
    }
   ],
   "source": [
    "alpha = 0.05\n",
    "d_f1 = 3 - 1\n",
    "d_f2 = len(total) - 3\n",
    "print(f'Степени свободы для определения табличного значения критерия Фишера: {d_f1, d_f2}')"
   ]
  },
  {
   "cell_type": "code",
   "execution_count": 73,
   "id": "c1ea69c6",
   "metadata": {},
   "outputs": [
    {
     "name": "stdout",
     "output_type": "stream",
     "text": [
      "Принимаем альтернативную гипотезу:\n",
      "статистически значимые различия между средними выявлены, средний рост спортсмена зависит от выбираемого им вида спорта\n"
     ]
    }
   ],
   "source": [
    "F_t = 3.38  # табличное значение критерия Фишера по таблице\n",
    "if F_n > F_t:\n",
    "    print('Принимаем альтернативную гипотезу:\\nстатистически значимые различия между средними выявлены, средний рост спортсмена зависит от выбираемого им вида спорта')\n",
    "else:\n",
    "    print('Принимаем нулевую гипотезу:\\nстатистически значимые различия между средними не выявлены, средний рост спорстмена не зависит от выбираемого им вида спорта')"
   ]
  },
  {
   "cell_type": "markdown",
   "id": "7704b250",
   "metadata": {},
   "source": [
    "5. Используя готовые функции, упростим вычисления"
   ]
  },
  {
   "cell_type": "code",
   "execution_count": 77,
   "id": "ea355689",
   "metadata": {},
   "outputs": [
    {
     "data": {
      "text/plain": [
       "F_onewayResult(statistic=5.500053450812596, pvalue=0.010482206918698694)"
      ]
     },
     "execution_count": 77,
     "metadata": {},
     "output_type": "execute_result"
    }
   ],
   "source": [
    "f = stat.f_oneway(x1, x2, x3)\n",
    "f"
   ]
  },
  {
   "cell_type": "markdown",
   "id": "6f071d66",
   "metadata": {},
   "source": [
    "Получили значение $p-value=0.01048$ < $\\alpha=0.05$  отвергаем нулевую гипотезу.  Т.е. средний рост футболистов, хоккеистов и штангистоа различен.  "
   ]
  },
  {
   "cell_type": "markdown",
   "id": "142abe4a",
   "metadata": {},
   "source": [
    "***\n",
    "### Ответ\n",
    "***"
   ]
  },
  {
   "cell_type": "markdown",
   "id": "ab579836",
   "metadata": {},
   "source": [
    "Принимаем альтернативную гипотезу: статистически значимые различия между средними выявлены, средний рост спортсмена зависит от выбираемого им вида спорта"
   ]
  }
 ],
 "metadata": {
  "kernelspec": {
   "display_name": "Python 3 (ipykernel)",
   "language": "python",
   "name": "python3"
  },
  "language_info": {
   "codemirror_mode": {
    "name": "ipython",
    "version": 3
   },
   "file_extension": ".py",
   "mimetype": "text/x-python",
   "name": "python",
   "nbconvert_exporter": "python",
   "pygments_lexer": "ipython3",
   "version": "3.11.3"
  }
 },
 "nbformat": 4,
 "nbformat_minor": 5
}
