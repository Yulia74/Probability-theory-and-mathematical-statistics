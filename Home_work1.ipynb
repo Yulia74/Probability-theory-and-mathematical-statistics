{
 "cells": [
  {
   "cell_type": "markdown",
   "id": "e664ed45",
   "metadata": {},
   "source": [
    "## Домашнее задание №1\n",
    "***"
   ]
  },
  {
   "cell_type": "markdown",
   "id": "86929792",
   "metadata": {},
   "source": [
    "### Задача 1\n",
    "Из колоды в 52 карты извлекаются случайным образом 4 карты \\\n",
    "  a) найти вероятность того, что все карты – крести;\\\n",
    "  б) найти вероятность, что среди 4-х карт окажется хотя бы один туз."
   ]
  },
  {
   "cell_type": "markdown",
   "id": "3374a059",
   "metadata": {},
   "source": [
    "#### Решение\n",
    "для определения вероятности воспользуемся формулой классической вероятности $ P(A)=\\frac{m}{n} $,\\\n",
    "где ***m*** - число благоприятных исходов, ***n*** - общее количество исходов.\n",
    "\n",
    "Для вычисления количества исходов, используем формулу количества сочетаний $ C\\binom{n}{k} = \\frac{n!}{k!(n-k)!} $,\\\n",
    "где ***n*** - количество элементов (множество), ***k*** - количество сочетаний.\n",
    "\n",
    "Для расчета будем использовать функцию *get_combinations*, которая на вход принимает ***n*** и ***k***, возвращает количество сочетаний."
   ]
  },
  {
   "cell_type": "markdown",
   "id": "f21d4d7b",
   "metadata": {},
   "source": [
    "а) вычислим ***m*** (в колоде 13 карт крестовой масти (52/4), из колоды вынимается 4 карты)"
   ]
  },
  {
   "cell_type": "code",
   "execution_count": 1,
   "id": "6b5f3a56",
   "metadata": {},
   "outputs": [],
   "source": [
    "from math import factorial\n",
    "\n",
    "def get_combinations(n, k):\n",
    "    return int(factorial(n) / (factorial(k) * factorial(n - k))) "
   ]
  },
  {
   "cell_type": "code",
   "execution_count": 2,
   "id": "22f2f22a",
   "metadata": {
    "scrolled": true
   },
   "outputs": [
    {
     "name": "stdout",
     "output_type": "stream",
     "text": [
      "m = 715\n"
     ]
    }
   ],
   "source": [
    "m = get_combinations(13, 4)\n",
    "print(f'm = {m}')"
   ]
  },
  {
   "cell_type": "markdown",
   "id": "d6af50d2",
   "metadata": {},
   "source": [
    "вычислим ***n*** (общее количество карт в колоде - 52, вынимаем 4 карты)"
   ]
  },
  {
   "cell_type": "code",
   "execution_count": 3,
   "id": "95b8b34a",
   "metadata": {},
   "outputs": [
    {
     "name": "stdout",
     "output_type": "stream",
     "text": [
      "n = 270725\n"
     ]
    }
   ],
   "source": [
    "n = get_combinations(52, 4)\n",
    "print(f'n = {n}')"
   ]
  },
  {
   "cell_type": "markdown",
   "id": "1cba4159",
   "metadata": {},
   "source": [
    "Определим вероятность того, что все карты - крести Р(4 карты - крести) "
   ]
  },
  {
   "cell_type": "code",
   "execution_count": 4,
   "id": "97ef930d",
   "metadata": {},
   "outputs": [
    {
     "name": "stdout",
     "output_type": "stream",
     "text": [
      "Р(4 карты - крести) = 0.0026\n"
     ]
    }
   ],
   "source": [
    "P = m/n\n",
    "print(f'Р(4 карты - крести) = {round(P, 4)}')"
   ]
  },
  {
   "cell_type": "markdown",
   "id": "4b3af7e1",
   "metadata": {},
   "source": [
    "б) Общее количество исходов остается прежним n = 270725.\\\n",
    "Для определения количества благоприятных исходов (m), разобьем множество карт на подмножество тузов 4, и подмножество без тузов 48 (52-4).\\\n",
    "Количество благоприятных исходов будет складываться из случаев со следующими вариантами:\n",
    "* из 4 карт 1 туз\n",
    "* из 4 карт 2 туза\n",
    "* из 4 карт 3 туза\n",
    "* из 4 карт 4 туза (количество комбинаций 1)"
   ]
  },
  {
   "cell_type": "code",
   "execution_count": 5,
   "id": "92161236",
   "metadata": {},
   "outputs": [
    {
     "name": "stdout",
     "output_type": "stream",
     "text": [
      "m = 76145\n"
     ]
    }
   ],
   "source": [
    "m = get_combinations(48, 3)*get_combinations(4, 1) + get_combinations(48, 2)*get_combinations(4, 2) + get_combinations(48, 1)*get_combinations(4, 3) + 1\n",
    "print(f'm = {m}')"
   ]
  },
  {
   "cell_type": "code",
   "execution_count": 6,
   "id": "e2c94348",
   "metadata": {},
   "outputs": [
    {
     "name": "stdout",
     "output_type": "stream",
     "text": [
      "P(хотя бы 1 туз) = 0.28\n"
     ]
    }
   ],
   "source": [
    "P = m / n\n",
    "print(f'P(хотя бы 1 туз) = {round(P, 2)}')"
   ]
  },
  {
   "cell_type": "markdown",
   "id": "2b984252",
   "metadata": {},
   "source": [
    "так же эту задачу можно решить обратным способом:\\\n",
    "сумма вероятностей протовиположных событий $\\displaystyle P(A)+P(\\bar{A})=1$,\\\n",
    "противоположное событие - извлечь 4 карты без туза"
   ]
  },
  {
   "cell_type": "code",
   "execution_count": 7,
   "id": "cb1ec578",
   "metadata": {},
   "outputs": [
    {
     "name": "stdout",
     "output_type": "stream",
     "text": [
      "m = 194580\n"
     ]
    }
   ],
   "source": [
    "m = get_combinations(48, 4)\n",
    "print(f'm = {m}')"
   ]
  },
  {
   "cell_type": "code",
   "execution_count": 8,
   "id": "036d2db3",
   "metadata": {},
   "outputs": [
    {
     "name": "stdout",
     "output_type": "stream",
     "text": [
      "P(хотя бы 1 туз) = 0.28\n"
     ]
    }
   ],
   "source": [
    "P = 1 - m/n\n",
    "print(f'P(хотя бы 1 туз) = {round(P, 2)}')"
   ]
  },
  {
   "cell_type": "markdown",
   "id": "bac1c0ae",
   "metadata": {},
   "source": [
    "***\n",
    "### Ответ:\n",
    "**а) ***Р*** (4 карты - крести) ~ 0,0026**\\\n",
    "**б) ***P*** (хотя бы 1 туз) ~ 0,28**\n",
    "***"
   ]
  },
  {
   "cell_type": "markdown",
   "id": "098aab45",
   "metadata": {},
   "source": [
    "### Задача 2\n",
    "На входной двери подъезда установлен кодовый замок, содержащий десять кнопок с цифрами от 0 до 9. Код содержит три цифры, которые нужно нажать одновременно. Какова вероятность того, что человек, не знающий код, откроет дверь с первой попытки?"
   ]
  },
  {
   "cell_type": "markdown",
   "id": "6325c02f",
   "metadata": {},
   "source": [
    "#### Решение\n",
    "Для решения задачи будем использовать формулу количества сочетаний (т.к. порядок нажатия кнопок неважен, по условию задачи они нажимаются одновременно). Количество благоприятных исходов будет ***m = 1***, т.к. дверь должна быть открыта с первой попытки."
   ]
  },
  {
   "cell_type": "code",
   "execution_count": 9,
   "id": "c0614d24",
   "metadata": {},
   "outputs": [
    {
     "name": "stdout",
     "output_type": "stream",
     "text": [
      "P(открыть дверь с первой попытки) = 0.0083\n"
     ]
    }
   ],
   "source": [
    "n =  get_combinations(10, 3)\n",
    "P = 1 / n\n",
    "print(f'P(открыть дверь с первой попытки) = {round(P, 4)}')"
   ]
  },
  {
   "cell_type": "markdown",
   "id": "a87ac8f1",
   "metadata": {},
   "source": [
    "***\n",
    "### Ответ:\n",
    "*****Р*** (открыть дверь с первой попытки) ~ 0,0083**\n",
    "***"
   ]
  },
  {
   "cell_type": "markdown",
   "id": "c6c8f86f",
   "metadata": {},
   "source": [
    "### Задача 3\n",
    "В ящике имеется 15 деталей, из которых 9 окрашены. Рабочий случайным образом извлекает 3 детали. Какова вероятность того, что все извлеченные детали окрашены?"
   ]
  },
  {
   "cell_type": "markdown",
   "id": "6428f6a7",
   "metadata": {},
   "source": [
    "#### Решение\n",
    "Для решения задачи будем использовать формулу количества сочетаний (т.к. порядок извлечения деталей неважен).\\\n",
    "Определим общее количество исходов ***n*** из 15 деталей по 3.\n",
    "Количество благоприятных исходов ***m*** определим из 9 окрашенных деталей по 3."
   ]
  },
  {
   "cell_type": "code",
   "execution_count": 10,
   "id": "bce9df45",
   "metadata": {},
   "outputs": [
    {
     "name": "stdout",
     "output_type": "stream",
     "text": [
      "n = 455\n"
     ]
    }
   ],
   "source": [
    "n =  get_combinations(15, 3)\n",
    "print(f'n = {n}')"
   ]
  },
  {
   "cell_type": "code",
   "execution_count": 11,
   "id": "31480f38",
   "metadata": {},
   "outputs": [
    {
     "name": "stdout",
     "output_type": "stream",
     "text": [
      "m = 84\n"
     ]
    }
   ],
   "source": [
    "m = get_combinations(9, 3)\n",
    "print(f'm = {m}')"
   ]
  },
  {
   "cell_type": "code",
   "execution_count": 14,
   "id": "6d050319",
   "metadata": {},
   "outputs": [
    {
     "name": "stdout",
     "output_type": "stream",
     "text": [
      "Р(3 детали окрашены) = 0.18\n"
     ]
    }
   ],
   "source": [
    "P = m / n\n",
    "print(f'Р(3 детали окрашены) = {round(P, 2)}')"
   ]
  },
  {
   "cell_type": "markdown",
   "id": "4797d7db",
   "metadata": {},
   "source": [
    "***\n",
    "### Ответ:\n",
    "*****Р*** (3 детали окрашены) ~ 0,18**\n",
    "***"
   ]
  },
  {
   "cell_type": "markdown",
   "id": "37fc74d4",
   "metadata": {},
   "source": [
    "#### Задача 4\n",
    "В лотерее 100 билетов. Из них 2 выигрышных. Какова вероятность того, что 2 приобретенных билета окажутся выигрышными?"
   ]
  },
  {
   "cell_type": "markdown",
   "id": "01e3316d",
   "metadata": {},
   "source": [
    "#### Решение\n",
    "Для решения задачи будем использовать формулу количества сочетаний.\\\n",
    "Определим общее количество исходов ***n*** из 100 билетов по 2.\n",
    "Количество благоприятных исходов ***m*** = 1."
   ]
  },
  {
   "cell_type": "code",
   "execution_count": 16,
   "id": "c3d65ad1",
   "metadata": {},
   "outputs": [
    {
     "name": "stdout",
     "output_type": "stream",
     "text": [
      "n = 4950\n"
     ]
    }
   ],
   "source": [
    "n =  get_combinations(100, 2)\n",
    "print(f'n = {n}')"
   ]
  },
  {
   "cell_type": "code",
   "execution_count": 17,
   "id": "45d0e611",
   "metadata": {},
   "outputs": [
    {
     "name": "stdout",
     "output_type": "stream",
     "text": [
      "Р(2 билета выигрышные) = 0.0002 \n"
     ]
    }
   ],
   "source": [
    "P=1/n\n",
    "print(f'Р(2 билета выигрышные) = {round(P, 4)} ')"
   ]
  },
  {
   "cell_type": "markdown",
   "id": "3bdf78de",
   "metadata": {},
   "source": [
    "***\n",
    "### Ответ:\n",
    "*****Р*** (2 билета выигрышные) ~ 0,0002**\n",
    "***"
   ]
  }
 ],
 "metadata": {
  "kernelspec": {
   "display_name": "Python 3 (ipykernel)",
   "language": "python",
   "name": "python3"
  },
  "language_info": {
   "codemirror_mode": {
    "name": "ipython",
    "version": 3
   },
   "file_extension": ".py",
   "mimetype": "text/x-python",
   "name": "python",
   "nbconvert_exporter": "python",
   "pygments_lexer": "ipython3",
   "version": "3.9.7"
  }
 },
 "nbformat": 4,
 "nbformat_minor": 5
}
